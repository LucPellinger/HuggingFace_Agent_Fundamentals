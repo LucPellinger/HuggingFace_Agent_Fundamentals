{
 "cells": [
  {
   "cell_type": "markdown",
   "id": "e9b113c4",
   "metadata": {},
   "source": [
    "# 🤗 \"Hello world!\"-Agent: A PoC using smolagents from Hugging Face\n",
    "\n",
    "In this notebook a first pilot agent will be created using the `smolagents` library from Hugging Face.\n",
    "This agent is the first agent implemented by ourselves in this course and repository and thus is called \"Hello world!\".\n",
    "\n",
    "## Pre-requisites\n",
    "\n",
    "- smolagents-library: A Python library that provides a framework for developing your agents with ease. This lightweight library is designed for simplicity, but it abstracts away much of the complexity of building an Agent, allowing you to focus on designing your agent’s behavior. In short, smolagents is a library that focuses on codeAgent, a kind of agent that performs “Actions” through code blocks, and then “Observes” results by executing the code.\n",
    "\n",
    "- Hugging Face Hub: A platform for sharing and collaborating on machine learning models, datasets, and other resources. It provides a user-friendly interface for managing and deploying your models.\n",
    "\n",
    "## Outcomes\n",
    "\n",
    "- Understand the basic concepts of the `smolagents` library.\n",
    "- Create a simple agent using the `smolagents` library.\n",
    "- Deploy the agent on the Hugging Face Hub.\n",
    "- Publish the agent on a Hugging Face Space so you can share it with friends and colleagues.\n",
    "\n"
   ]
  }
 ],
 "metadata": {
  "language_info": {
   "name": "python"
  }
 },
 "nbformat": 4,
 "nbformat_minor": 5
}
