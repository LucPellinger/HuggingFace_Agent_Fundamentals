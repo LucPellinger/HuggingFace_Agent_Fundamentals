{
 "cells": [
  {
   "cell_type": "markdown",
   "id": "f3a84f1e",
   "metadata": {},
   "source": [
    "# Unit 2: Introduction to Agentic Frameworks\n",
    "\n",
    "Welcome to this second unit, where we’ll explore different agentic frameworks that can be used to build powerful agentic applications.\n",
    "\n",
    "We will study:\n",
    "\n",
    "1. In Unit 2.1: smolagents\n",
    "2. In Unit 2.2: LlamaIndex\n",
    "3. In Unit 2.3: LangGraph\n",
    "\n",
    "Let’s dive in! 🕵\n",
    "\n",
    "\n",
    "## When to Use an Agentic Framework\n",
    "An agentic framework is not always needed when building an application around LLMs. They provide flexibility in the workflow to efficiently solve a specific task, but they’re not always necessary.\n",
    "\n",
    "Sometimes, predefined workflows are sufficient to fulfill user requests, and there is no real need for an agentic framework. If the approach to build an agent is simple, like a chain of prompts, using plain code may be enough. The advantage is that the developer will have full control and understanding of their system without abstractions.\n",
    "\n",
    "However, when the workflow becomes more complex, such as letting an LLM call functions or using multiple agents, these abstractions start to become helpful.\n",
    "\n",
    "Considering these ideas, we can already identify the need for some features:\n",
    "\n",
    "- An LLM engine that powers the system.\n",
    "- A list of tools the agent can access.\n",
    "- A parser for extracting tool calls from the LLM output.\n",
    "- A system prompt synced with the parser.\n",
    "- A memory system.\n",
    "- Error logging and retry mechanisms to control LLM mistakes. We’ll explore how these topics are resolved in various frameworks, including smolagents, LlamaIndex, and LangGraph.\n",
    "\n",
    "\n",
    "## Agentic Frameworks Units\n",
    "\n",
    "| Framework     | Description                                                                     | Unit Author                                |\n",
    "|---------------|---------------------------------------------------------------------------------|---------------------------------------------|\n",
    "| smolagents    | Agents framework developed by Hugging Face.                                    | Sergio Paniego – HF – X – LinkedIn          |\n",
    "| Llama-Index   | End-to-end tooling to ship a context-augmented AI agent to production           | David Berenstein – HF – X – LinkedIn        |\n",
    "| LangGraph     | Agents allowing stateful orchestration of agents                                | Joffrey THOMAS – HF – X – LinkedIn          |\n"
   ]
  }
 ],
 "metadata": {
  "language_info": {
   "name": "python"
  }
 },
 "nbformat": 4,
 "nbformat_minor": 5
}
