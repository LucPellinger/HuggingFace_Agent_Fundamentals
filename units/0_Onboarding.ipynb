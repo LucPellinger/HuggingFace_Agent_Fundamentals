{
 "cells": [
  {
   "cell_type": "markdown",
   "id": "59b5d427",
   "metadata": {},
   "source": [
    "# 🤗 HuggingFace_Agent_Fundamentals\n",
    "\n",
    "## 0. ⛵ Onboarding\n",
    "\n",
    "Welcome to the Hugging Face AI Agent Fundamentals Course!\n",
    "\n",
    "After installing the model and dependecies in your python env, run the following code in a notebook:\n",
    "\n",
    "---\n",
    "\n",
    "   ```python\n",
    "   from smolagents import LiteLLMModel\n",
    "   \n",
    "   model = LiteLLMModel(\n",
    "       model_id=\"ollama_chat/qwen2:7b\",  # Or try other Ollama-supported models\n",
    "       api_base=\"http://127.0.0.1:11434\",  # Default Ollama local server\n",
    "       num_ctx=8192,\n",
    "   )\n",
    "   ```\n",
    "   \n",
    "---"
   ]
  },
  {
   "cell_type": "code",
   "execution_count": 2,
   "id": "61e12804",
   "metadata": {},
   "outputs": [],
   "source": [
    "from smolagents import LiteLLMModel\n",
    "\n",
    "model = LiteLLMModel(\n",
    "    model_id=\"ollama_chat/qwen2:7b\",  # Or try other Ollama-supported models\n",
    "    api_base=\"http://127.0.0.1:11434\",  # Default Ollama local server\n",
    "    num_ctx=8192,\n",
    ")"
   ]
  },
  {
   "cell_type": "code",
   "execution_count": null,
   "id": "7a92f497",
   "metadata": {},
   "outputs": [],
   "source": []
  }
 ],
 "metadata": {
  "kernelspec": {
   "display_name": "agent_course",
   "language": "python",
   "name": "python3"
  },
  "language_info": {
   "codemirror_mode": {
    "name": "ipython",
    "version": 3
   },
   "file_extension": ".py",
   "mimetype": "text/x-python",
   "name": "python",
   "nbconvert_exporter": "python",
   "pygments_lexer": "ipython3",
   "version": "3.12.9"
  }
 },
 "nbformat": 4,
 "nbformat_minor": 5
}
